{
 "cells": [
  {
   "cell_type": "markdown",
   "metadata": {},
   "source": [
    "# RAG desde PDF - ESPAÑOL\n",
    "\n",
    "Este RAG recibe tres pdfs sobre animales y responde a unas preguntas"
   ]
  },
  {
   "cell_type": "markdown",
   "metadata": {},
   "source": [
    "## 1. Código"
   ]
  },
  {
   "cell_type": "code",
   "execution_count": 1,
   "metadata": {},
   "outputs": [],
   "source": [
    "# Introducción documento \"externo\"\n",
    "import PyPDF2\n",
    "pdf_names=[ \"arboles\", \"flores\", \"plantas\"]\n",
    "\n",
    "pdf_paths=[]\n",
    "for name in pdf_names:\n",
    "    pdf_paths.append('pdfs/'+name+'.pdf')\n",
    "text=\"\"\n",
    "for pdf in pdf_paths:\n",
    "    with open(pdf, 'rb') as pdf_file:\n",
    "        reader = PyPDF2.PdfReader(pdf_file)\n",
    "        for page in reader.pages:\n",
    "            text = text + page.extract_text() "
   ]
  },
  {
   "cell_type": "code",
   "execution_count": 2,
   "metadata": {},
   "outputs": [],
   "source": [
    "# Split del texto recibido\n",
    "import langchain\n",
    "from langchain.text_splitter  import CharacterTextSplitter\n",
    "\n",
    "text_splitter = CharacterTextSplitter(\n",
    "    separator=\"\\n\",  \n",
    "    chunk_size=400,  \n",
    "    chunk_overlap=50\n",
    ")\n",
    "\n",
    "splits = text_splitter.split_text(text)"
   ]
  },
  {
   "cell_type": "code",
   "execution_count": 3,
   "metadata": {},
   "outputs": [
    {
     "name": "stderr",
     "output_type": "stream",
     "text": [
      "/home/bigdata/miniconda3/envs/blalba/lib/python3.13/site-packages/tqdm/auto.py:21: TqdmWarning: IProgress not found. Please update jupyter and ipywidgets. See https://ipywidgets.readthedocs.io/en/stable/user_install.html\n",
      "  from .autonotebook import tqdm as notebook_tqdm\n"
     ]
    },
    {
     "name": "stdout",
     "output_type": "stream",
     "text": [
      "Index has already been created\n"
     ]
    }
   ],
   "source": [
    "#Vectorizar\n",
    "from langchain_mongodb import MongoDBAtlasVectorSearch\n",
    "from pymongo import MongoClient\n",
    "from langchain_huggingface import HuggingFaceEmbeddings\n",
    "from langchain.schema import Document\n",
    "from dotenv import load_dotenv\n",
    "import os \n",
    "\n",
    "load_dotenv()\n",
    "\n",
    "MONGODB_ATLAS_CLUSTER_URI = api_key = os.getenv(\"MONGODB_ATLAS_CLUSTER_URI\")\n",
    "DB_NAME = os.getenv(\"DB_NAME\")\n",
    "COLLECTION_NAME = os.getenv(\"COLLECTION_NAME\")\n",
    "ATLAS_VECTOR_SEARCH_INDEX_NAME = os.getenv(\"ATLAS_VECTOR_SEARCH_INDEX_NAME\")\n",
    "\n",
    "client = MongoClient(MONGODB_ATLAS_CLUSTER_URI)\n",
    "embeddings = HuggingFaceEmbeddings(model_name=\"sentence-transformers/all-mpnet-base-v2\")\n",
    "MONGODB_COLLECTION = client[DB_NAME][COLLECTION_NAME]\n",
    "\n",
    "vector_store = MongoDBAtlasVectorSearch(\n",
    "    collection=MONGODB_COLLECTION,\n",
    "    embedding=embeddings,\n",
    "    index_name=ATLAS_VECTOR_SEARCH_INDEX_NAME,\n",
    "    relevance_score_fn=\"cosine\",\n",
    ")\n",
    "\n",
    "for split in splits:\n",
    "    embedding = embeddings.embed_documents(split) \n",
    "    document = Document(\n",
    "        page_content=split,  \n",
    "        embedding=embedding \n",
    "    )\n",
    "\n",
    "    vector_store.add_documents([document])\n",
    "try:\n",
    "    vector_store.create_vector_search_index(dimensions=768)\n",
    "except Exception as e:\n",
    "    print(\"Index has already been created\")\n",
    "\n",
    "\n",
    "\n",
    "retriever = vector_store.as_retriever()"
   ]
  },
  {
   "cell_type": "code",
   "execution_count": 4,
   "metadata": {},
   "outputs": [],
   "source": [
    "# Ollama \n",
    "from langchain_core.output_parsers import StrOutputParser\n",
    "from langchain.prompts import ChatPromptTemplate\n",
    "from langchain_ollama.chat_models import ChatOllama\n",
    "from langchain_core.runnables import RunnableLambda, RunnablePassthrough\n",
    "\n",
    "# Prompt\n",
    "template = \"\"\"Responde a la pregunta concisamente y en castellano en base a este contexto:\n",
    "{context}\n",
    "\n",
    "Pregunta: {question}\n",
    "\"\"\"\n",
    "prompt = ChatPromptTemplate.from_template(template)\n",
    "\n",
    "# Local LLM\n",
    "ollama_llm = \"llama3.2\"\n",
    "model_local = ChatOllama(model=ollama_llm)\n",
    "\n",
    "# Chain\n",
    "chain = (\n",
    "    {\"context\": retriever, \"question\": RunnablePassthrough()}\n",
    "    | prompt\n",
    "    | model_local\n",
    "    | StrOutputParser()\n",
    ")\n"
   ]
  },
  {
   "cell_type": "markdown",
   "metadata": {},
   "source": [
    "## 2. Preguntas"
   ]
  },
  {
   "cell_type": "code",
   "execution_count": 5,
   "metadata": {},
   "outputs": [
    {
     "data": {
      "text/plain": [
       "'Una planta puede reproducirse a través de un proceso llamado \"germenación\", donde el tallo de una planta madre crece hacia la superficie y forma raíces propias. También pueden reproducirse las plantas mediante división del estolón, que es la parte del tallo subterráneo que conecta la planta con su progenitor.'"
      ]
     },
     "execution_count": 5,
     "metadata": {},
     "output_type": "execute_result"
    }
   ],
   "source": [
    "chain.invoke(\"¿Dime cómo se puede reproducir una planta?\")"
   ]
  },
  {
   "cell_type": "code",
   "execution_count": 6,
   "metadata": {},
   "outputs": [
    {
     "data": {
      "text/plain": [
       "'La estructura de un árbol se compone de varias partes, incluyendo las hojas, flores y frutos. Las hojas permiten la fotosíntesis, mientras que las flores y los frutos son responsables de la reproducción del árbol a través de la dispersión de semillas.'"
      ]
     },
     "execution_count": 6,
     "metadata": {},
     "output_type": "execute_result"
    }
   ],
   "source": [
    "chain.invoke(\"¿Cómo es la estructura de un árbol?\")"
   ]
  },
  {
   "cell_type": "code",
   "execution_count": 7,
   "metadata": {},
   "outputs": [
    {
     "data": {
      "text/plain": [
       "'La función del tronco y las ramas es unir el árbol con las hojas y los frutos, proporcionando estructura y soporte. El tronco sirve como base del árbol y puede estar sin ramas, mientras que las ramas se extienden hacia afuera y contienen las hojas y los frutos.'"
      ]
     },
     "execution_count": 7,
     "metadata": {},
     "output_type": "execute_result"
    }
   ],
   "source": [
    "chain.invoke(\"¿Cuál es la función del tronco y las ramas?\")"
   ]
  },
  {
   "cell_type": "code",
   "execution_count": 8,
   "metadata": {},
   "outputs": [
    {
     "data": {
      "text/plain": [
       "'Las flores se clasifican según varios criterios:\\n\\n- **Según el número de carpelos**: Unicarpelar (solo un ovario) o Pluricarpelar (más de un carpelo, que puede estar unido o separado).\\n\\n- **Según la forma de las inflorescencias**: Racimo (varias flores que se insertan a lo largo de un eje) o Inflorescencia terminal (una flor central rodeada por muchas otras).\\n\\n- **Según la presencia de órganos sexuales**: \\n  - Flor hermafrodita: tiene órganos masculinos y femeninos.\\n  - Unisexual masculina: solo tiene estambres.\\n  - Unisexual femenina: solo tiene carpelos.'"
      ]
     },
     "execution_count": 8,
     "metadata": {},
     "output_type": "execute_result"
    }
   ],
   "source": [
    "chain.invoke(\"Háblame de la clasificación de las flores\")"
   ]
  },
  {
   "cell_type": "code",
   "execution_count": 9,
   "metadata": {},
   "outputs": [
    {
     "data": {
      "text/plain": [
       "'No, no se menciona que un árbol emita nitrógeno a la atmósfera en este contexto.'"
      ]
     },
     "execution_count": 9,
     "metadata": {},
     "output_type": "execute_result"
    }
   ],
   "source": [
    "chain.invoke(\"¿Un árbol emite nitrógeno a la atmósfera?\")"
   ]
  }
 ],
 "metadata": {
  "kernelspec": {
   "display_name": "blalba",
   "language": "python",
   "name": "python3"
  },
  "language_info": {
   "codemirror_mode": {
    "name": "ipython",
    "version": 3
   },
   "file_extension": ".py",
   "mimetype": "text/x-python",
   "name": "python",
   "nbconvert_exporter": "python",
   "pygments_lexer": "ipython3",
   "version": "3.13.1"
  },
  "orig_nbformat": 4
 },
 "nbformat": 4,
 "nbformat_minor": 2
}
