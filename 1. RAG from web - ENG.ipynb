{
 "cells": [
  {
   "cell_type": "markdown",
   "metadata": {},
   "source": [
    "# RAG desde web - INGLÉS"
   ]
  },
  {
   "cell_type": "markdown",
   "metadata": {},
   "source": [
    "## 1. Código"
   ]
  },
  {
   "cell_type": "code",
   "execution_count": 2,
   "metadata": {},
   "outputs": [
    {
     "data": {
      "text/plain": [
       "18"
      ]
     },
     "execution_count": 2,
     "metadata": {},
     "output_type": "execute_result"
    }
   ],
   "source": [
    "running_urls=[\n",
    "    'https://www.runnersworld.com/uk/gear/shoes/a776671/best-running-shoes/', 'https://www.wired.com/gallery/best-running-shoes/', \n",
    "    'https://runrepeat.com/guides/best-running-shoes',\n",
    "    'https://runrepeat.com/catalog/cheap-running-shoes',\n",
    "    'https://believeintherun.com/shoe-reviews/type/best-of-road/',\n",
    "    'https://www.womensrunning.co.uk/gear/best-womens-running-shoes/',\n",
    "    'https://www.telegraph.co.uk/recommended/leisure/fitness/best-running-shoes-men/',\n",
    "    'https://www.runnersworld.com/gear/a24228881/affordable-running-shoes/',\n",
    "    'https://www.verywellfit.com/best-cheap-running-shoes-8598713',\n",
    "    'https://www.coachweb.com/running-shoes/7827/the-best-budget-running-shoes',\n",
    "    'https://www.outdoorgearlab.com/topics/shoes-and-boots/best-running-shoes-womens',\n",
    "    'https://www.telegraph.co.uk/recommended/leisure/fitness/best-running-shoes-women/'\n",
    "    'https://runrepeat.com/guides/best-womens-running-shoes',\n",
    "    'https://runrepeat.com/guides/best-mens-running-shoes',\n",
    "    'https://www.gift-sprint.com/top-5-running-shoes-to-buy-2024',\n",
    "    'https://nymag.com/strategist/article/best-running-shoes-workout-shoes-women.html',\n",
    "    'https://www.cosmopolitan.com/uk/body/fitness-workouts/g30441126/best-running-shoes/',\n",
    "    'https://believeintherun.com/shoe-reviews/best-running-shoes-of-2024-so-far/',\n",
    "    'https://www.gq.com/story/best-running-shoes-for-every-budget',\n",
    "    'https://www.theguardian.com/thefilter/2025/jan/02/best-running-shoes',\n",
    "    'https://www.outsideonline.com/outdoor-gear/run/best-running-shoes'\n",
    "]\n",
    "len(running_urls)"
   ]
  },
  {
   "cell_type": "code",
   "execution_count": 11,
   "metadata": {},
   "outputs": [],
   "source": [
    "# Introducción documento \"externo\"\n",
    "import requests\n",
    "from bs4 import BeautifulSoup\n",
    "\n",
    "web_link='https://towardsdatascience.com/3-business-skills-you-need-to-progress-your-data-science-career-in-2025-146f841d1a1e'\n",
    "\n",
    "response = requests.get(web_link)\n",
    "if response.status_code == 200:\n",
    "    soup = BeautifulSoup(response.content, 'html.parser')\n",
    "    text = soup.get_text(separator=\"\\n\", strip=True)"
   ]
  },
  {
   "cell_type": "code",
   "execution_count": 12,
   "metadata": {},
   "outputs": [],
   "source": [
    "# Split del texto recibido\n",
    "from langchain.text_splitter  import CharacterTextSplitter\n",
    "\n",
    "text_splitter = CharacterTextSplitter(\n",
    "    separator=\"\\n\",  \n",
    "    chunk_size=800,\n",
    "    chunk_overlap=50\n",
    ")\n",
    "\n",
    "splits = text_splitter.split_text(text)\n"
   ]
  },
  {
   "cell_type": "code",
   "execution_count": 16,
   "metadata": {},
   "outputs": [
    {
     "name": "stdout",
     "output_type": "stream",
     "text": [
      "Index has already been created\n"
     ]
    }
   ],
   "source": [
    "#Vectorizar\n",
    "from langchain_mongodb import MongoDBAtlasVectorSearch\n",
    "from pymongo import MongoClient\n",
    "from langchain_huggingface import HuggingFaceEmbeddings\n",
    "from langchain.schema import Document\n",
    "from dotenv import load_dotenv\n",
    "import os \n",
    "\n",
    "load_dotenv()\n",
    "\n",
    "MONGODB_ATLAS_CLUSTER_URI = api_key = os.getenv(\"MONGODB_ATLAS_CLUSTER_URI\")\n",
    "DB_NAME = os.getenv(\"DB_NAME\")\n",
    "COLLECTION_NAME = os.getenv(\"COLLECTION_NAME\")\n",
    "ATLAS_VECTOR_SEARCH_INDEX_NAME = os.getenv(\"ATLAS_VECTOR_SEARCH_INDEX_NAME\")\n",
    "client = MongoClient(MONGODB_ATLAS_CLUSTER_URI)\n",
    "embeddings = HuggingFaceEmbeddings(model_name=\"sentence-transformers/all-mpnet-base-v2\")\n",
    "MONGODB_COLLECTION = client[DB_NAME][COLLECTION_NAME]\n",
    "\n",
    "vector_store = MongoDBAtlasVectorSearch(\n",
    "    collection=MONGODB_COLLECTION,\n",
    "    embedding=embeddings,\n",
    "    index_name=ATLAS_VECTOR_SEARCH_INDEX_NAME,\n",
    "    relevance_score_fn=\"cosine\",\n",
    ")\n",
    "\n",
    "for split in splits:\n",
    "    embedding = embeddings.embed_documents(split) \n",
    "    document = Document(\n",
    "        page_content=split,\n",
    "        embedding=embedding \n",
    "    )\n",
    "\n",
    "    vector_store.add_documents([document])\n",
    "\n",
    "\n",
    "try:\n",
    "    vector_store.create_vector_search_index(dimensions=768)\n",
    "except Exception as e:\n",
    "    print(\"Index has already been created\")\n",
    "\n",
    "retriever = vector_store.as_retriever()\n"
   ]
  },
  {
   "cell_type": "code",
   "execution_count": 17,
   "metadata": {},
   "outputs": [],
   "source": [
    "# Ollama \n",
    "from langchain_core.output_parsers import StrOutputParser\n",
    "from langchain.prompts import ChatPromptTemplate\n",
    "from langchain_ollama.chat_models import ChatOllama\n",
    "from langchain_core.runnables import RunnableLambda, RunnablePassthrough\n",
    "\n",
    "template = \"\"\"Answer the question based only on the following context:\n",
    "{context}\n",
    "\n",
    "Question: {question}\n",
    "\"\"\"\n",
    "prompt = ChatPromptTemplate.from_template(template)\n",
    "\n",
    "ollama_llm = \"llama3.2\"\n",
    "model_local = ChatOllama(model=ollama_llm)\n",
    "\n",
    "chain = (\n",
    "    {\"context\": retriever, \"question\": RunnablePassthrough()}\n",
    "    | prompt\n",
    "    | model_local\n",
    "    | StrOutputParser()\n",
    ")"
   ]
  },
  {
   "cell_type": "markdown",
   "metadata": {},
   "source": [
    "## 2. Preguntas"
   ]
  },
  {
   "cell_type": "code",
   "execution_count": 18,
   "metadata": {},
   "outputs": [
    {
     "data": {
      "text/plain": [
       "'While the provided context doesn\\'t directly answer the question, it does provide some information about Towards Data Science and Dr. Varshita Sher. Based on this context, I can make an educated guess.\\n\\nTo progress in a data science career, one might consider:\\n\\n1. Following Towards Data Science to stay up-to-date with the latest trends and developments in the field.\\n2. Reading articles by Dr. Varshita Sher, who is described as an FTSE 100 Tech Leader, Data Science & Generative AI expert, Oxford Alumni, and a top writer on Medium.\\n3. Possibly engaging with her responses (although only one response is available in this context).\\n4. Exploring the \"About\", \"Careers\", \"Press\", \"Blog\", \"Privacy\", \"Terms\", \"Text to speech\", and \"Teams\" sections of the website for more information.\\n\\nHowever, without more specific information about Dr. Sher\\'s advice or guidance on data science career development, it is difficult to provide a more concrete answer.'"
      ]
     },
     "execution_count": 18,
     "metadata": {},
     "output_type": "execute_result"
    }
   ],
   "source": [
    "chain.invoke(\"What would you do if you would like to progress in your data science career?\")"
   ]
  },
  {
   "cell_type": "code",
   "execution_count": 19,
   "metadata": {},
   "outputs": [
    {
     "data": {
      "text/plain": [
       "\"No, the context does not suggest that insulting one's boss is a viable or recommended way to improve in their data science career. In fact, the text emphasizes the benefits of understanding numbers and contributing to the company's financial success through open communication, which implies building positive relationships with supervisors. Insulting one's boss would likely have the opposite effect.\""
      ]
     },
     "execution_count": 19,
     "metadata": {},
     "output_type": "execute_result"
    }
   ],
   "source": [
    "chain.invoke(\"Would you insult your boss if you wanted to improve in your data science career?\")"
   ]
  },
  {
   "cell_type": "code",
   "execution_count": 20,
   "metadata": {},
   "outputs": [
    {
     "data": {
      "text/plain": [
       "\"Yes, according to the context provided, being a good communicator is crucial for success in a leadership role that involves managing teams, data storytelling, and cross-team collaboration. It's implied that having strong soft communication skills can make a big difference in pitching ideas, communicating insights, motivating team members, and succeeding in general.\""
      ]
     },
     "execution_count": 20,
     "metadata": {},
     "output_type": "execute_result"
    }
   ],
   "source": [
    "chain.invoke(\"Is it a good idea to be a good a communication?\")"
   ]
  },
  {
   "cell_type": "markdown",
   "metadata": {},
   "source": [
    "## 3. Creación GUI"
   ]
  },
  {
   "cell_type": "code",
   "execution_count": 21,
   "metadata": {},
   "outputs": [],
   "source": [
    "def search_chroma(query, top_k):\n",
    "    try:   \n",
    "        results = vector_store.similarity_search(query, k=top_k)\n",
    "        return chain.invoke(query)\n",
    "    except Exception as e:\n",
    "        return f\"Error: {e}\""
   ]
  },
  {
   "cell_type": "code",
   "execution_count": 22,
   "metadata": {},
   "outputs": [
    {
     "name": "stdout",
     "output_type": "stream",
     "text": [
      "* Running on local URL:  http://127.0.0.1:7860\n",
      "\n",
      "To create a public link, set `share=True` in `launch()`.\n"
     ]
    },
    {
     "data": {
      "text/html": [
       "<div><iframe src=\"http://127.0.0.1:7860/\" width=\"100%\" height=\"500\" allow=\"autoplay; camera; microphone; clipboard-read; clipboard-write;\" frameborder=\"0\" allowfullscreen></iframe></div>"
      ],
      "text/plain": [
       "<IPython.core.display.HTML object>"
      ]
     },
     "metadata": {},
     "output_type": "display_data"
    },
    {
     "data": {
      "text/plain": []
     },
     "execution_count": 22,
     "metadata": {},
     "output_type": "execute_result"
    }
   ],
   "source": [
    "import gradio as gr\n",
    "with gr.Blocks() as demo:\n",
    "    gr.Markdown(\"### Chroma Database Search\")\n",
    "    \n",
    "    with gr.Row():\n",
    "        query_input = gr.Textbox(label=\"Enter Your Query\", placeholder=\"Type your question here...\")\n",
    "        top_k_input = gr.Slider(1, 10, step=1, value=5, label=\"Number of Results\")\n",
    "\n",
    "    search_button = gr.Button(\"Search\")\n",
    "    output_box = gr.Textbox(label=\"Search Results\", lines=15)\n",
    "    search_button.click(fn=search_chroma, inputs=[query_input, top_k_input], outputs=output_box)\n",
    "\n",
    "demo.launch()"
   ]
  }
 ],
 "metadata": {
  "kernelspec": {
   "display_name": "Python 3.12.3 64-bit",
   "language": "python",
   "name": "python3"
  },
  "language_info": {
   "codemirror_mode": {
    "name": "ipython",
    "version": 3
   },
   "file_extension": ".py",
   "mimetype": "text/x-python",
   "name": "python",
   "nbconvert_exporter": "python",
   "pygments_lexer": "ipython3",
   "version": "3.12.3"
  },
  "orig_nbformat": 4,
  "vscode": {
   "interpreter": {
    "hash": "916dbcbb3f70747c44a77c7bcd40155683ae19c65e1c03b4aa3499c5328201f1"
   }
  }
 },
 "nbformat": 4,
 "nbformat_minor": 2
}
